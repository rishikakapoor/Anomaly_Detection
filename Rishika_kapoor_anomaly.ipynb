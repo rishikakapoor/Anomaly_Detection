{
 "cells": [
  {
   "cell_type": "code",
   "execution_count": 22,
   "metadata": {},
   "outputs": [
    {
     "name": "stdout",
     "output_type": "stream",
     "text": [
      "Remove 160.0 from the list because it's 4.136921068680976 times the standard deviation of the list without it \n",
      "160.0 is removed from the list\n",
      "Remove 55.0 from the list because it's 3.5703976728415756 times the standard deviation of the list without it \n",
      "55.0 is removed from the list\n",
      "Remove 131.85777845 from the list because it's 3.0767484021507054 times the standard deviation of the list without it \n",
      "131.85777845 is removed from the list\n",
      "No more anomaly detected!\n",
      "None\n"
     ]
    }
   ],
   "source": [
    "import numpy as np\n",
    "import scipy as sp\n",
    "import scipy.stats\n",
    "import matplotlib.pyplot as plt\n",
    "\n",
    "text_file = open(\"/Users/rishika/Desktop/anomaly_detection.txt\", \"r+\")\n",
    "lines = text_file.readlines()\n",
    "new_file=[]\n",
    "text_file.close()\n",
    "for item in lines:\n",
    "    new_file.append(item.strip())\n",
    "    \n",
    "string_array= np.array(new_file)\n",
    "\n",
    "float_array= string_array.astype(np.float)\n",
    "\n",
    "def mean_cal(array):\n",
    "    mean= np.mean(array)\n",
    "    return mean\n",
    "\n",
    "def standard_deviation_cal(array):\n",
    "    \n",
    "    standard_deviation= np.std(array) \n",
    "    return standard_deviation\n",
    "\n",
    "\n",
    "    \n",
    "\n",
    "def anomaly_detection(array):\n",
    "    index=0\n",
    "    array.sort() \n",
    "    while index < len(array):\n",
    "        item= array[index]\n",
    "        array1=np.delete(array,index,0)\n",
    "        \n",
    "        if  ((array[index]) < (mean_cal(array1)-(3* standard_deviation_cal(array1)))) or (array[index]) > ((3* standard_deviation_cal(array1))+ mean_cal(array1)):\n",
    "            cal_times=abs( ((array[index] - mean_cal(array1))/standard_deviation_cal(array1)))\n",
    "                       \n",
    "            print(\"Remove \" + str(array[index]) +\" from the list because it's \"+ str(cal_times)+\" times the standard deviation of the list without it \" )\n",
    "            print(str(array[index])+\" is removed from the list\")\n",
    "            \n",
    "            \n",
    "            array=np.delete(array,index,0)\n",
    "            index=0\n",
    "            \n",
    "        else:\n",
    "            \n",
    "            index+=1\n",
    "           \n",
    "    print(\"No more anomaly detected!\")            \n",
    "#     x=array\n",
    "#     v=sp.stats.norm.pdf(array,mean_cal(array),standard_deviation_cal(array))\n",
    "#     return plt.plot(x,v) \n",
    "       \n",
    "         \n",
    "             \n",
    "        \n",
    "print(anomaly_detection(float_array))\n",
    "\n",
    "\n",
    "\n",
    "\n"
   ]
  },
  {
   "cell_type": "code",
   "execution_count": null,
   "metadata": {},
   "outputs": [],
   "source": []
  },
  {
   "cell_type": "code",
   "execution_count": null,
   "metadata": {},
   "outputs": [],
   "source": []
  }
 ],
 "metadata": {
  "kernelspec": {
   "display_name": "Python 3",
   "language": "python",
   "name": "python3"
  },
  "language_info": {
   "codemirror_mode": {
    "name": "ipython",
    "version": 3
   },
   "file_extension": ".py",
   "mimetype": "text/x-python",
   "name": "python",
   "nbconvert_exporter": "python",
   "pygments_lexer": "ipython3",
   "version": "3.7.1"
  }
 },
 "nbformat": 4,
 "nbformat_minor": 2
}
